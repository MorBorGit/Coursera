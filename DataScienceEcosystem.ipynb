{
 "cells": [
  {
   "cell_type": "markdown",
   "id": "86d2abad-ff76-450d-92b6-2c55aa601702",
   "metadata": {},
   "source": [
    "# Data Science Tools and Ecosystem"
   ]
  },
  {
   "cell_type": "markdown",
   "id": "f130a8d9-b644-44fa-a283-fab6793b48cc",
   "metadata": {},
   "source": [
    "This is an introduction to the Data Science Ecosystem and to some of its common tools"
   ]
  },
  {
   "cell_type": "markdown",
   "id": "fdb20314-2445-4fe4-8a8e-d8d6985ed5e7",
   "metadata": {},
   "source": [
    "**Objectives:** So, what are we going to do here exactly? You will see:\n",
    "\n",
    "* Lists detailing popular data science languages, libraries and tools\n",
    "* How to use Python for arithmetic expressions\n",
    "* A practical example of it applied to minute-hours conversion"
   ]
  },
  {
   "cell_type": "markdown",
   "id": "bfae63b8-62fa-4a60-8342-cc8474ad9e7e",
   "metadata": {},
   "source": [
    "## Languages\n",
    "\n",
    "So let's start by listing some popular data science programing languages:\n",
    "\n",
    "1. Python\n",
    "2. R\n",
    "3. Julia\n",
    "4. Scala\n",
    "5. Java\n",
    "6. Sql\n",
    "\n",
    "The last one isn't strictly used for programming, but databases are an integral part of data science."
   ]
  },
  {
   "cell_type": "markdown",
   "id": "50495c29-d585-40c6-8698-8868010665f0",
   "metadata": {},
   "source": [
    "## Libraries\n",
    "\n",
    "Data science, however, also makes an extensive use of libraries, so let's provide a short list for some of them as well:\n",
    "\n",
    "1. Pandas\n",
    "2. Numpy\n",
    "3. Seaborn\n",
    "4. Keras\n",
    "5. Scikit-learn\n",
    "6. Tensorflow"
   ]
  },
  {
   "cell_type": "markdown",
   "id": "4c7c6740-a64b-43de-acf2-fbe8ba68a9f1",
   "metadata": {},
   "source": [
    "## Tools\n",
    "\n",
    "There is no shortage of open-source tools to aid you in your career either. Three of such are:\n",
    "\n",
    "|Data Science Tools|\n",
    "|---|\n",
    "|Jupyter|\n",
    "|R Studio|\n",
    "|Apache Zeppelin|\n",
    "\n",
    "Is it cheeky to list Jupyter among the tools in a list made on Jupyter?\n",
    "\n",
    "Yes."
   ]
  },
  {
   "cell_type": "markdown",
   "id": "48cf4e13-b4a1-4ef8-ba74-607853f26dcd",
   "metadata": {},
   "source": [
    "## Math\n",
    "\n",
    "So now let's dive in everyone's favorite subject (although one I actually like unironically), and let's see how we can use this beauty to do some math.\n",
    "\n",
    "### Below you will find examples of how to use Python to evaluate arythmetic expressions"
   ]
  },
  {
   "cell_type": "code",
   "execution_count": 2,
   "id": "5596bc8f-d6d8-4fab-bd91-0af1a3e0badf",
   "metadata": {},
   "outputs": [
    {
     "name": "stdout",
     "output_type": "stream",
     "text": [
      "17\n"
     ]
    }
   ],
   "source": [
    "# Let's start simple with some multiplication and addition (which truly means we are just doing addition) of integers. One digit only (at least for now).\n",
    "\n",
    "x=(3*4)+5\n",
    "\n",
    "print(x)"
   ]
  },
  {
   "cell_type": "code",
   "execution_count": 3,
   "id": "60c2c5c5-547c-431f-b1ae-9a1d38c42847",
   "metadata": {},
   "outputs": [
    {
     "name": "stdout",
     "output_type": "stream",
     "text": [
      "200\n"
     ]
    }
   ],
   "source": [
    "# Here instead we will move between hours and minutes, in this case we will show how to convert a given number of minutes in their equivalent in hours\n",
    "\n",
    "m=200\n",
    "h=m/60\n",
    "\n",
    "print(m)"
   ]
  },
  {
   "cell_type": "markdown",
   "id": "0b1409cc-262d-48cd-94c7-b721153af883",
   "metadata": {},
   "source": [
    "And with this I have done my part, and I bid you farewell.\n",
    "\n",
    "## Author\n",
    "\n",
    "Morgan Bortolotti"
   ]
  },
  {
   "cell_type": "code",
   "execution_count": null,
   "id": "68361cf5-015f-41f1-9f1e-0ec3b84e4096",
   "metadata": {},
   "outputs": [],
   "source": []
  }
 ],
 "metadata": {
  "kernelspec": {
   "display_name": "Python 3 (ipykernel)",
   "language": "python",
   "name": "python3"
  },
  "language_info": {
   "codemirror_mode": {
    "name": "ipython",
    "version": 3
   },
   "file_extension": ".py",
   "mimetype": "text/x-python",
   "name": "python",
   "nbconvert_exporter": "python",
   "pygments_lexer": "ipython3",
   "version": "3.11.7"
  }
 },
 "nbformat": 4,
 "nbformat_minor": 5
}
